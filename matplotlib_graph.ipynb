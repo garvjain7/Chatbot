{
  "nbformat": 4,
  "nbformat_minor": 0,
  "metadata": {
    "colab": {
      "provenance": [],
      "authorship_tag": "ABX9TyNyPx/B5HfEWcXk+SIhA9su",
      "include_colab_link": true
    },
    "kernelspec": {
      "name": "python3",
      "display_name": "Python 3"
    },
    "language_info": {
      "name": "python"
    }
  },
  "cells": [
    {
      "cell_type": "markdown",
      "metadata": {
        "id": "view-in-github",
        "colab_type": "text"
      },
      "source": [
        "<a href=\"https://colab.research.google.com/github/garvjain7/Chatbot/blob/main/matplotlib_graph.ipynb\" target=\"_parent\"><img src=\"https://colab.research.google.com/assets/colab-badge.svg\" alt=\"Open In Colab\"/></a>"
      ]
    },
    {
      "cell_type": "code",
      "execution_count": null,
      "metadata": {
        "id": "vFYir4iqgS5X"
      },
      "outputs": [],
      "source": [
        "# this is the file to generate some graph using nupmy and matloptlib to some data or array"
      ]
    },
    {
      "cell_type": "code",
      "source": [
        "import numpy as np\n",
        "import matplotlib.pyplot as plt"
      ],
      "metadata": {
        "id": "aRJzKtxOgoHk"
      },
      "execution_count": 1,
      "outputs": []
    },
    {
      "cell_type": "code",
      "source": [
        "array_1d = np.arange(12)\n",
        "array_2d = array_1d.reshape(3,4)\n",
        "array_3d = array_1d.reshape(2,3,2)\n",
        "print(array_1d)\n",
        "print(array_2d)\n",
        "print(array_3d)"
      ],
      "metadata": {
        "id": "bxbNL-ALg-_w"
      },
      "execution_count": 11,
      "outputs": []
    },
    {
      "cell_type": "code",
      "source": [
        "fig, axes = plt.subplots(1, 3, figsize=(15,5))\n",
        "axes[0].imshow(array_1d.reshape(1, -1), cmap='Blues', aspect='auto')\n",
        "axes[0].set_title('1D Array')\n",
        "axes[1].imshow(array_2d, cmap='Oranges', aspect='auto')\n",
        "axes[1].set_title('2D Array')\n",
        "axes[2].imshow(array_3d.reshape(3,4), cmap='Purples', aspect='auto')\n",
        "axes[2].set_title('3D Array')\n",
        "\n",
        "for ax in axes:\n",
        "    ax.axis('off')\n",
        "    plt.tight_layout()\n",
        "    plt.savefig('array_examples.png')\n",
        "plt.show()"
      ],
      "metadata": {
        "id": "y2SFq26Bhnbq"
      },
      "execution_count": 9,
      "outputs": []
    },
    {
      "cell_type": "code",
      "source": [
        "array_2d = np.array([[1,2,3],[4,5,6],[7,8,9]])\n",
        "fig, axes = plt.subplots(figsize=(6,6))\n",
        "for i, row in enumerate(array_2d):\n",
        "    ax.plot(row, marker='o', linestyle='-', label=f'Row{i+1}', color=colors[i])\n",
        "plt.show()"
      ],
      "metadata": {
        "colab": {
          "base_uri": "https://localhost:8080/"
        },
        "id": "IRc21Vh7phqY",
        "outputId": "bc0331f6-653c-4f66-be17-786c11433962"
      },
      "execution_count": 14,
      "outputs": [
        {
          "output_type": "stream",
          "name": "stdout",
          "text": [
            "[[1 2 3]\n",
            " [4 5 6]\n",
            " [7 8 9]]\n"
          ]
        }
      ]
    }
  ]
}
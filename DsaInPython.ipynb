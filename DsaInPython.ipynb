{
  "nbformat": 4,
  "nbformat_minor": 0,
  "metadata": {
    "colab": {
      "provenance": [],
      "authorship_tag": "ABX9TyP7vSmHmhhzMQnC4Db6yhJ1",
      "include_colab_link": true
    },
    "kernelspec": {
      "name": "python3",
      "display_name": "Python 3"
    },
    "language_info": {
      "name": "python"
    }
  },
  "cells": [
    {
      "cell_type": "markdown",
      "metadata": {
        "id": "view-in-github",
        "colab_type": "text"
      },
      "source": [
        "<a href=\"https://colab.research.google.com/github/garvjain7/Chatbot/blob/main/DsaInPython.ipynb\" target=\"_parent\"><img src=\"https://colab.research.google.com/assets/colab-badge.svg\" alt=\"Open In Colab\"/></a>"
      ]
    },
    {
      "cell_type": "code",
      "execution_count": null,
      "metadata": {
        "id": "G-oeaQ5Exj1z"
      },
      "outputs": [],
      "source": [
        "# DSA in python contains 5 data structure\n",
        "# 1. List\n",
        "# 2. Tuple\n",
        "# 3. Set\n",
        "# 4. Dictionary\n",
        "# 5. String\n",
        "# Let's discuss each one by one in details"
      ]
    },
    {
      "cell_type": "code",
      "source": [
        "# list\n",
        "# ALL FUNCTIONS AND USE CASES OF LIST\n",
        "\n",
        "l1 = [10,120,3,0.4,\"Hello\",\"Hello World\", 45869.6, False, 120] # creating a list containing multiple datatypes\n",
        "l2 = [234,54,78,14.67,\"It's me\", True]\n",
        "l3 = [1232,5436,133,75,77.44,7,5,4]\n",
        "l4 = ['hi', 'hello']\n",
        "l5 = [] # this is how to create an empty list. We can insert element in it using loops.\n",
        "print(l1) # printning a list\n",
        "print(l2)\n",
        "\n",
        "l1.append(44) # this is used to add an element in the last of the list\n",
        "c = l1.copy() # copy function can return a shallow copy of a list\n",
        "print(c)\n",
        "# l1.clear() # clear can delete every element of the list and make it empty\n",
        "print(l1.count(120)) # since 120 is two times in a list l1 so it shows its count. If we can't use print it will just do that and show nothing\n",
        "l1.extend([8347, \"Hi! How are you\"]) # It is same as append just the difference is append is for single element but we can extend our list by this with multiple elements\n",
        "print(l1)\n",
        "print(l1.index('Hello')) # index is used to check the index value of the element. Here, 'Hello' is the element present in the list\n",
        "l1.insert(1,4628) # used to insert element in the list at particular index value. list.insert(index_value, value_to_be_inserted)\n",
        "print(l1)\n",
        "l1.pop() # if pop is given without index it can elete the last element from the list\n",
        "print(l1)\n",
        "l1.pop(3) # pop is given with the value 3 that implies that 3 is pop out of the list\n",
        "print(l1)\n",
        "l2.remove(234) # same as pop with the value. Remove the value which is specified with parameter\n",
        "print(l2)\n",
        "# pop() function can work with or without any argument but remove() function must have one value as parameter to remove.\n",
        "l1.remove(False) # we can also remove a boolean expression from a list using remove() function\n",
        "print(l1)\n",
        "l1.reverse()\n",
        "print(l1) #used to reverse a list given\n",
        "# l1.sort() # if we apply sort method or function on list l1. It will throw an error because this can contain multiple data types. for sorting list must of integers or float\n",
        "l3.sort()\n",
        "print(l3) # l3 have all integers so it will be sorted easily. It can also sort between integers and float\n",
        "l4.sort()\n",
        "print(l4) # string can also be sorted but the data type would be same is the must condition\n",
        "l1"
      ],
      "metadata": {
        "colab": {
          "base_uri": "https://localhost:8080/"
        },
        "id": "LQ0nvPstx-0N",
        "outputId": "88e6300c-ed4b-4392-cfb2-a64d9f549773"
      },
      "execution_count": 38,
      "outputs": [
        {
          "output_type": "stream",
          "name": "stdout",
          "text": [
            "[10, 120, 3, 0.4, 'Hello', 'Hello World', 45869.6, False, 120]\n",
            "[234, 54, 78, 14.67, \"It's me\", True]\n",
            "[10, 120, 3, 0.4, 'Hello', 'Hello World', 45869.6, False, 120, 44]\n",
            "2\n",
            "[10, 120, 3, 0.4, 'Hello', 'Hello World', 45869.6, False, 120, 44, 8347, 'Hi! How are you']\n",
            "4\n",
            "[10, 4628, 120, 3, 0.4, 'Hello', 'Hello World', 45869.6, False, 120, 44, 8347, 'Hi! How are you']\n",
            "[10, 4628, 120, 3, 0.4, 'Hello', 'Hello World', 45869.6, False, 120, 44, 8347]\n",
            "[10, 4628, 120, 0.4, 'Hello', 'Hello World', 45869.6, False, 120, 44, 8347]\n",
            "[54, 78, 14.67, \"It's me\", True]\n",
            "[10, 4628, 120, 0.4, 'Hello', 'Hello World', 45869.6, 120, 44, 8347]\n",
            "[8347, 44, 120, 45869.6, 'Hello World', 'Hello', 0.4, 120, 4628, 10]\n",
            "[4, 5, 7, 75, 77.44, 133, 1232, 5436]\n",
            "['hello', 'hi']\n"
          ]
        },
        {
          "output_type": "execute_result",
          "data": {
            "text/plain": [
              "[8347, 44, 120, 45869.6, 'Hello World', 'Hello', 0.4, 120, 4628, 10]"
            ]
          },
          "metadata": {},
          "execution_count": 38
        }
      ]
    },
    {
      "cell_type": "code",
      "source": [
        "# methods that shows how we can apply loops on a given list in python\n",
        "\n",
        "# simple for loop printing items\n",
        "l1 = [8347, 44, 120, 45869.6, 'HelloWorld', 'Hello', 0.4, 120, 4628, 10]\n",
        "for item in l1:\n",
        "    print(item, end=\"\\t\")\n",
        "\n",
        "# accessing items with index\n",
        "for i in range(len(l1)):\n",
        "    print(f\"Index {i}: {l1[i]}\")\n",
        "\n",
        "# using while loop\n",
        "i = 0\n",
        "while i < len(l1):\n",
        "    print(l1[i], end=\" \")\n",
        "    i += 1\n",
        "\n",
        "# finding specific type of elements\n",
        "for item in l1:\n",
        "    if isinstance(item, str): # here isinstance is a property that check the data type of the item\n",
        "        print(f\"String found: {item}\")"
      ],
      "metadata": {
        "colab": {
          "base_uri": "https://localhost:8080/"
        },
        "id": "M4F0d_fn5INm",
        "outputId": "ea2bc27f-a154-404e-e8ef-172e7f2677b4"
      },
      "execution_count": 48,
      "outputs": [
        {
          "output_type": "stream",
          "name": "stdout",
          "text": [
            "8347\t44\t120\t45869.6\tHelloWorld\tHello\t0.4\t120\t4628\t10\tIndex 0: 8347\n",
            "Index 1: 44\n",
            "Index 2: 120\n",
            "Index 3: 45869.6\n",
            "Index 4: HelloWorld\n",
            "Index 5: Hello\n",
            "Index 6: 0.4\n",
            "Index 7: 120\n",
            "Index 8: 4628\n",
            "Index 9: 10\n",
            "8347 44 120 45869.6 HelloWorld Hello 0.4 120 4628 10 String found: HelloWorld\n",
            "String found: Hello\n"
          ]
        }
      ]
    }
  ]
}
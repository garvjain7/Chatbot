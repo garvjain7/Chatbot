{
  "nbformat": 4,
  "nbformat_minor": 0,
  "metadata": {
    "colab": {
      "provenance": [],
      "authorship_tag": "ABX9TyMbZ16rUKjI24Ly9Oppd9l+",
      "include_colab_link": true
    },
    "kernelspec": {
      "name": "python3",
      "display_name": "Python 3"
    },
    "language_info": {
      "name": "python"
    }
  },
  "cells": [
    {
      "cell_type": "markdown",
      "metadata": {
        "id": "view-in-github",
        "colab_type": "text"
      },
      "source": [
        "<a href=\"https://colab.research.google.com/github/garvjain7/Chatbot/blob/main/Match_winner_prediction.ipynb\" target=\"_parent\"><img src=\"https://colab.research.google.com/assets/colab-badge.svg\" alt=\"Open In Colab\"/></a>"
      ]
    },
    {
      "cell_type": "code",
      "execution_count": 1,
      "metadata": {
        "colab": {
          "base_uri": "https://localhost:8080/"
        },
        "id": "-LWmvmVgzxyb",
        "outputId": "712636a1-8e5c-484e-cc61-24abf9ea25ba"
      },
      "outputs": [
        {
          "output_type": "stream",
          "name": "stdout",
          "text": [
            "<class 'pandas.core.frame.DataFrame'>\n",
            "RangeIndex: 816 entries, 0 to 815\n",
            "Data columns (total 17 columns):\n",
            " #   Column           Non-Null Count  Dtype  \n",
            "---  ------           --------------  -----  \n",
            " 0   id               816 non-null    int64  \n",
            " 1   city             803 non-null    object \n",
            " 2   date             816 non-null    object \n",
            " 3   player_of_match  812 non-null    object \n",
            " 4   venue            816 non-null    object \n",
            " 5   neutral_venue    816 non-null    int64  \n",
            " 6   team1            816 non-null    object \n",
            " 7   team2            816 non-null    object \n",
            " 8   toss_winner      816 non-null    object \n",
            " 9   toss_decision    816 non-null    object \n",
            " 10  winner           812 non-null    object \n",
            " 11  result           812 non-null    object \n",
            " 12  result_margin    799 non-null    float64\n",
            " 13  eliminator       812 non-null    object \n",
            " 14  method           19 non-null     object \n",
            " 15  umpire1          816 non-null    object \n",
            " 16  umpire2          816 non-null    object \n",
            "dtypes: float64(1), int64(2), object(14)\n",
            "memory usage: 108.5+ KB\n"
          ]
        },
        {
          "output_type": "execute_result",
          "data": {
            "text/plain": [
              "(None,\n",
              "        id        city        date player_of_match  \\\n",
              " 0  335982   Bangalore  2008-04-18     BB McCullum   \n",
              " 1  335983  Chandigarh  2008-04-19      MEK Hussey   \n",
              " 2  335984       Delhi  2008-04-19     MF Maharoof   \n",
              " 3  335985      Mumbai  2008-04-20      MV Boucher   \n",
              " 4  335986     Kolkata  2008-04-20       DJ Hussey   \n",
              " \n",
              "                                         venue  neutral_venue  \\\n",
              " 0                       M Chinnaswamy Stadium              0   \n",
              " 1  Punjab Cricket Association Stadium, Mohali              0   \n",
              " 2                            Feroz Shah Kotla              0   \n",
              " 3                            Wankhede Stadium              0   \n",
              " 4                                Eden Gardens              0   \n",
              " \n",
              "                          team1                        team2  \\\n",
              " 0  Royal Challengers Bangalore        Kolkata Knight Riders   \n",
              " 1              Kings XI Punjab          Chennai Super Kings   \n",
              " 2             Delhi Daredevils             Rajasthan Royals   \n",
              " 3               Mumbai Indians  Royal Challengers Bangalore   \n",
              " 4        Kolkata Knight Riders              Deccan Chargers   \n",
              " \n",
              "                    toss_winner toss_decision                       winner  \\\n",
              " 0  Royal Challengers Bangalore         field        Kolkata Knight Riders   \n",
              " 1          Chennai Super Kings           bat          Chennai Super Kings   \n",
              " 2             Rajasthan Royals           bat             Delhi Daredevils   \n",
              " 3               Mumbai Indians           bat  Royal Challengers Bangalore   \n",
              " 4              Deccan Chargers           bat        Kolkata Knight Riders   \n",
              " \n",
              "     result  result_margin eliminator method    umpire1         umpire2  \n",
              " 0     runs          140.0          N    NaN  Asad Rauf     RE Koertzen  \n",
              " 1     runs           33.0          N    NaN  MR Benson      SL Shastri  \n",
              " 2  wickets            9.0          N    NaN  Aleem Dar  GA Pratapkumar  \n",
              " 3  wickets            5.0          N    NaN   SJ Davis       DJ Harper  \n",
              " 4  wickets            5.0          N    NaN  BF Bowden     K Hariharan  )"
            ]
          },
          "metadata": {},
          "execution_count": 1
        }
      ],
      "source": [
        "import pandas as pd\n",
        "\n",
        "# Load the dataset\n",
        "df = pd.read_csv('IPL Matches 2008-2020.csv')\n",
        "\n",
        "# Display basic information about the dataset\n",
        "df.info(), df.head()\n"
      ]
    },
    {
      "cell_type": "code",
      "source": [
        "import pandas as pd\n",
        "import matplotlib.pyplot as plt\n",
        "import seaborn as sns\n",
        "from sklearn.model_selection import train_test_split\n",
        "from sklearn.preprocessing import LabelEncoder, OneHotEncoder\n",
        "from sklearn.ensemble import RandomForestClassifier\n",
        "from sklearn.metrics import accuracy_score\n",
        "import numpy as np"
      ],
      "metadata": {
        "id": "wlDasw-p0JH6"
      },
      "execution_count": 3,
      "outputs": []
    },
    {
      "cell_type": "code",
      "source": [
        "# Load dataset\n",
        "df = pd.read_csv('IPL Matches 2008-2020.csv')\n",
        "\n",
        "# Data Cleaning: Handling Missing Values\n",
        "df['city'].fillna('Unknown', inplace=True)\n",
        "df.dropna(subset=['winner'], inplace=True)\n",
        "df.fillna({'result_margin': df['result_margin'].median(), 'player_of_match': 'Unknown', 'method': 'Unknown'}, inplace=True)\n",
        "\n",
        "# Remove Outliers in result_margin (wins by huge margins)\n",
        "q_low = df['result_margin'].quantile(0.01)\n",
        "q_high = df['result_margin'].quantile(0.99)\n",
        "df = df[(df['result_margin'] >= q_low) & (df['result_margin'] <= q_high)]\n",
        "\n",
        "# Feature Engineering: Extracting More Information\n",
        "df['year'] = pd.to_datetime(df['date']).dt.year\n",
        "df['month'] = pd.to_datetime(df['date']).dt.month\n",
        "df['season'] = df['year'].apply(lambda x: f\"IPL {x}\")\n",
        "\n",
        "# Feature Selection: Choosing relevant columns\n",
        "features = ['team1', 'team2', 'toss_winner', 'toss_decision', 'venue', 'month']\n",
        "label = 'winner'\n",
        "\n",
        "# Encoding Categorical Variables with One-Hot Encoding\n",
        "encoder = OneHotEncoder(handle_unknown='ignore', sparse_output=False)  # Ensure output is dense\n",
        "encoded_array = encoder.fit_transform(df[features])\n",
        "df_encoded = pd.DataFrame(encoded_array, columns=encoder.get_feature_names_out(features))\n",
        "df_encoded[label] = LabelEncoder().fit_transform(df[label])\n",
        "df_encoded.reset_index(drop=True, inplace=True)\n",
        "\n",
        "# Splitting Data: Training (2008-2019) and Testing (2020)\n",
        "train_data = df[df['year'] < 2020]\n",
        "test_data = df[df['year'] == 2020]\n",
        "\n",
        "X_train = df_encoded.iloc[train_data.index, :-1]\n",
        "y_train = df_encoded.iloc[train_data.index, -1]\n",
        "X_test = df_encoded.iloc[test_data.index, :-1]\n",
        "y_test = df_encoded.iloc[test_data.index, -1]\n",
        "\n",
        "# Model Training\n",
        "model = RandomForestClassifier(n_estimators=100, random_state=42)\n",
        "model.fit(X_train, y_train)\n",
        "\n",
        "# Predictions\n",
        "y_pred = model.predict(X_test)\n",
        "accuracy = accuracy_score(y_test, y_pred)\n",
        "print(f\"Model Accuracy: {accuracy * 100:.2f}%\")\n",
        "\n",
        "# Feature Importance\n",
        "plt.figure(figsize=(10, 5))\n",
        "sns.barplot(x=model.feature_importances_, y=X_train.columns)\n",
        "plt.title(\"Feature Importance in Match Prediction\")\n",
        "plt.show()\n",
        "\n",
        "# Predicting a future match\n",
        "def predict_winner(team1, team2, toss_winner, toss_decision, venue, month):\n",
        "    input_data = pd.DataFrame([[team1, team2, toss_winner, toss_decision, venue, month]], columns=features)\n",
        "    input_data = pd.DataFrame(encoder.transform(input_data), columns=encoder.get_feature_names_out(features))\n",
        "    winner = model.predict(input_data)[0]\n",
        "    return LabelEncoder().inverse_transform([winner])[0]\n",
        "\n",
        "# Example Prediction\n",
        "predicted_winner = predict_winner('Mumbai Indians', 'Chennai Super Kings', 'Mumbai Indians', 'bat', 'Wankhede Stadium', 4)\n",
        "print(f\"Predicted Winner: {predicted_winner}\")\n"
      ],
      "metadata": {
        "colab": {
          "base_uri": "https://localhost:8080/",
          "height": 218
        },
        "id": "fO9GIC1y0p8E",
        "outputId": "d390c1a5-73d6-4291-f560-b4efaf45d866"
      },
      "execution_count": 1,
      "outputs": [
        {
          "output_type": "error",
          "ename": "NameError",
          "evalue": "name 'pd' is not defined",
          "traceback": [
            "\u001b[0;31m---------------------------------------------------------------------------\u001b[0m",
            "\u001b[0;31mNameError\u001b[0m                                 Traceback (most recent call last)",
            "\u001b[0;32m<ipython-input-1-f7b2d35b7537>\u001b[0m in \u001b[0;36m<cell line: 0>\u001b[0;34m()\u001b[0m\n\u001b[1;32m      1\u001b[0m \u001b[0;31m# Load dataset\u001b[0m\u001b[0;34m\u001b[0m\u001b[0;34m\u001b[0m\u001b[0m\n\u001b[0;32m----> 2\u001b[0;31m \u001b[0mdf\u001b[0m \u001b[0;34m=\u001b[0m \u001b[0mpd\u001b[0m\u001b[0;34m.\u001b[0m\u001b[0mread_csv\u001b[0m\u001b[0;34m(\u001b[0m\u001b[0;34m'IPL Matches 2008-2020.csv'\u001b[0m\u001b[0;34m)\u001b[0m\u001b[0;34m\u001b[0m\u001b[0;34m\u001b[0m\u001b[0m\n\u001b[0m\u001b[1;32m      3\u001b[0m \u001b[0;34m\u001b[0m\u001b[0m\n\u001b[1;32m      4\u001b[0m \u001b[0;31m# Data Cleaning: Handling Missing Values\u001b[0m\u001b[0;34m\u001b[0m\u001b[0;34m\u001b[0m\u001b[0m\n\u001b[1;32m      5\u001b[0m \u001b[0mdf\u001b[0m\u001b[0;34m[\u001b[0m\u001b[0;34m'city'\u001b[0m\u001b[0;34m]\u001b[0m\u001b[0;34m.\u001b[0m\u001b[0mfillna\u001b[0m\u001b[0;34m(\u001b[0m\u001b[0;34m'Unknown'\u001b[0m\u001b[0;34m,\u001b[0m \u001b[0minplace\u001b[0m\u001b[0;34m=\u001b[0m\u001b[0;32mTrue\u001b[0m\u001b[0;34m)\u001b[0m\u001b[0;34m\u001b[0m\u001b[0;34m\u001b[0m\u001b[0m\n",
            "\u001b[0;31mNameError\u001b[0m: name 'pd' is not defined"
          ]
        }
      ]
    },
    {
      "cell_type": "code",
      "source": [
        "print(set(train_data.index) - set(df_encoded.index))  # Should be empty\n",
        "print(set(test_data.index) - set(df_encoded.index))   # Should be empty"
      ],
      "metadata": {
        "colab": {
          "base_uri": "https://localhost:8080/"
        },
        "id": "8WcQQCx82roZ",
        "outputId": "ded4465e-bb6a-4ae0-fe9b-6139218b9fe4"
      },
      "execution_count": 10,
      "outputs": [
        {
          "output_type": "stream",
          "name": "stdout",
          "text": [
            "set()\n",
            "{803, 804, 805, 806, 807, 808, 809, 810, 811, 812, 813, 814, 815}\n"
          ]
        }
      ]
    }
  ]
}
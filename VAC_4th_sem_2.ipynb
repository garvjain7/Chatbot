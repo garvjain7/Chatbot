{
  "nbformat": 4,
  "nbformat_minor": 0,
  "metadata": {
    "colab": {
      "provenance": [],
      "authorship_tag": "ABX9TyM2esE66N3mvhxsX321ajJ8",
      "include_colab_link": true
    },
    "kernelspec": {
      "name": "python3",
      "display_name": "Python 3"
    },
    "language_info": {
      "name": "python"
    }
  },
  "cells": [
    {
      "cell_type": "markdown",
      "metadata": {
        "id": "view-in-github",
        "colab_type": "text"
      },
      "source": [
        "<a href=\"https://colab.research.google.com/github/garvjain7/Chatbot/blob/main/VAC_4th_sem_2.ipynb\" target=\"_parent\"><img src=\"https://colab.research.google.com/assets/colab-badge.svg\" alt=\"Open In Colab\"/></a>"
      ]
    },
    {
      "cell_type": "code",
      "source": [
        "# Advance functions in python\n",
        "# Lambda function -> it is a one line function or anonymus function which takes another function as input\n",
        "\n",
        "square = lambda n:n**2\n",
        "l=[12,14,13,15,16,17,18]\n",
        "new_list1 = list(map(lambda n:n**2,l))\n",
        "print(new_list1)"
      ],
      "metadata": {
        "colab": {
          "base_uri": "https://localhost:8080/"
        },
        "id": "H6JA54VbJaJ-",
        "outputId": "242360ff-6bfd-40cd-ad80-379b9d536d72"
      },
      "execution_count": 3,
      "outputs": [
        {
          "output_type": "stream",
          "name": "stdout",
          "text": [
            "[144, 196, 169, 225, 256, 289, 324]\n"
          ]
        }
      ]
    },
    {
      "cell_type": "code",
      "source": [
        "add = lambda a,b:a+b\n",
        "print(add(12,3))\n",
        "\n",
        "# finding the maximum number\n",
        "# 1.) by normal function\n",
        "def max(a,b):\n",
        "  if a>b:\n",
        "    return a\n",
        "  else:\n",
        "    return b\n",
        "\n",
        "#2.) by lambda function(This functions are like inline function of C and C++)\n",
        "max = lambda a,b:a if a>b else b\n",
        "print(max(12,15))"
      ],
      "metadata": {
        "colab": {
          "base_uri": "https://localhost:8080/"
        },
        "id": "hOdaBviELxQK",
        "outputId": "71c6b9f9-00a2-458f-9bf3-622fda07a776"
      },
      "execution_count": 5,
      "outputs": [
        {
          "output_type": "stream",
          "name": "stdout",
          "text": [
            "15\n"
          ]
        }
      ]
    },
    {
      "cell_type": "code",
      "source": [
        "# reduce -> reduce is a high order function and it is the way of aggregate a sequence of value into a single vlaue by repeatedly\n",
        "# we cannot use reduce directly we have to import it from functools library\n",
        "from functools import reduce\n",
        "\n",
        "# reduce function with lambda function\n",
        "l1 = [2,4,6,8,10]\n",
        "func = reduce(lambda x,y : x+y, l1)\n",
        "print(func)\n",
        "\n",
        "# reduce function without lambda function\n",
        "# Define a normal function\n",
        "def add(x, y):\n",
        "    return x + y\n",
        "\n",
        "# Use reduce with the normal function\n",
        "numbers = [1, 2, 3, 4, 5]\n",
        "sum_numbers = reduce(add, numbers)\n",
        "\n",
        "print(sum_numbers)\n",
        "\n",
        "# Types of reduce() Applications\n",
        "# 2.1 Product of All Numbers\n",
        "product = reduce(lambda x, y: x * y, [1, 2, 3, 4, 5])\n",
        "print(product)  # Output: 120\n",
        "\n",
        "# 2.2 Finding Maximum Element\n",
        "numbers = [5, 3, 8, 2, 9, 1]\n",
        "max_value = reduce(lambda x, y: x if x > y else y, numbers)\n",
        "print(max_value)  # Output: 9\n",
        "\n",
        "# 2.3 Finding GCD (Greatest Common Divisor)\n",
        "import math\n",
        "gcd_value = reduce(math.gcd, [48, 64, 32, 16])\n",
        "print(gcd_value)  # Output: 16\n",
        "\n",
        "# 2.4 Concatenating Strings\n",
        "words = [\"Hello\", \"World\", \"Python\"]\n",
        "sentence = reduce(lambda x, y: x + \" \" + y, words)\n",
        "print(sentence)  # Output: Hello World Python\n",
        "\n",
        "# 2.5 Using an Initial Value\n",
        "numbers = [1, 2, 3, 4]\n",
        "result = reduce(lambda x, y: x * y, numbers, 10)  # Initial value = 10\n",
        "print(result)  # Output: 240 (10 * 1 * 2 * 3 * 4)"
      ],
      "metadata": {
        "colab": {
          "base_uri": "https://localhost:8080/"
        },
        "id": "TJZSv3RaO6_N",
        "outputId": "a7b458a5-38ae-4576-cd33-c68aba7389ca"
      },
      "execution_count": 8,
      "outputs": [
        {
          "output_type": "stream",
          "name": "stdout",
          "text": [
            "15\n"
          ]
        }
      ]
    },
    {
      "cell_type": "code",
      "execution_count": 26,
      "metadata": {
        "colab": {
          "base_uri": "https://localhost:8080/"
        },
        "id": "_ReevRaW_BeE",
        "outputId": "a9679908-88a6-46c6-d631-114a2ba6934c"
      },
      "outputs": [
        {
          "output_type": "stream",
          "name": "stdout",
          "text": [
            "[22 14 16]\n",
            "<class 'numpy.ndarray'>\n",
            "[[11 65 43 14]\n",
            " [11 28 64 22]]\n",
            "(2, 4)\n",
            "8\n",
            "2\n",
            "2\n",
            "int64\n",
            "[[11 65 43 14]\n",
            " [11 28 64 22]]\n",
            "[['11' '65' '43' '14']\n",
            " ['11' '28' '64' '22']]\n",
            "[[ 22  77 135  48]\n",
            " [ 22  70  86  24]]\n"
          ]
        }
      ],
      "source": [
        "# LEARNING ESSENTIAL LIBRARIES LIKE NUMPY(mathematical operation), PANDAS(data manipulation), MATPLOTLIB(visualization of data), SEABON\n",
        "import numpy as np\n",
        "l1 = np.array([11,12,13])\n",
        "l2 = np.array([11,2,3])\n",
        "print(l1 + l2)\n",
        "print(type(l1))\n",
        "# a = l1 + l2 # it can combine both the list because the default data value is taken as string\n",
        "\n",
        "arr3 = np.array([[11,65,43,14],[11,28,64,22]])\n",
        "arr4 = np.array([[11,12,92,34],[11,42,22,2]])\n",
        "print(arr3)\n",
        "\n",
        "print(arr3.shape) # rows and columns\n",
        "print(arr3.size) # numbers of element\n",
        "print(arr3.ndim) # dimenssion of array\n",
        "print(len(arr3)) # length of the array\n",
        "print(arr3.dtype) # datatype of array\n",
        "print(arr3.astype(int)) # conversion of data type\n",
        "print(arr3.astype(str)) # conversion of data type\n",
        "print(arr3 + arr4)"
      ]
    },
    {
      "cell_type": "code",
      "source": [
        "sq = np.sort(arr3)\n",
        "print(sq)"
      ],
      "metadata": {
        "colab": {
          "base_uri": "https://localhost:8080/"
        },
        "id": "abvl7gbbfkut",
        "outputId": "b94d8879-3d63-430d-f5a6-94ac44378e42"
      },
      "execution_count": 27,
      "outputs": [
        {
          "output_type": "stream",
          "name": "stdout",
          "text": [
            "[[11 14 43 65]\n",
            " [11 22 28 64]]\n"
          ]
        }
      ]
    },
    {
      "cell_type": "code",
      "source": [
        "# combining and spliting array\n",
        "a = np.array([[1,2,3],[4,5,6]])\n",
        "b = np.array([[11,22,22],[22,21,23]])\n",
        "print(np.concatenate([a,b]))\n",
        "print(\"\\n\")\n",
        "print(np.concatenate([a,b], axis=1)) # concatenates the values horizontally\n",
        "print(\"\\n\")\n",
        "print(np.concatenate([a,b], axis=0)) # concatenates the values vertically\n",
        "print(\"\\n\")\n",
        "\n",
        "# using hstack\n",
        "print(np.hstack([a,b]))\n",
        "print(\"\\n\")\n",
        "\n",
        "# using vstack\n",
        "print(np.vstack([a,b]))\n",
        "print(\"\\n\")\n",
        "\n",
        "a1 = np.array([11,12,13,14,15,16,17,18,19])\n",
        "a2 = np.array_split(a1,3) # array_split aso works with unequal parts. If the array has not enough rows that it creates an empty array.\n",
        "print(a2)\n",
        "print(\"\\n\")\n",
        "\n",
        "a4 = np.split(a1,3) # split works on equal size array i.e. in which array musy be divided into equal parts. It does not create empty array.`\n",
        "print(a4)\n",
        "print(\"\\n\")\n",
        "\n",
        "a3 = np.array_split(a,3)\n",
        "print(a3)"
      ],
      "metadata": {
        "colab": {
          "base_uri": "https://localhost:8080/"
        },
        "id": "jxukJq-cgzpp",
        "outputId": "8aaa1ccb-af67-47a1-ab9d-df2e025b49bb"
      },
      "execution_count": 44,
      "outputs": [
        {
          "output_type": "stream",
          "name": "stdout",
          "text": [
            "[[ 1  2  3]\n",
            " [ 4  5  6]\n",
            " [11 22 22]\n",
            " [22 21 23]]\n",
            "\n",
            "\n",
            "[[ 1  2  3 11 22 22]\n",
            " [ 4  5  6 22 21 23]]\n",
            "\n",
            "\n",
            "[[ 1  2  3]\n",
            " [ 4  5  6]\n",
            " [11 22 22]\n",
            " [22 21 23]]\n",
            "\n",
            "\n",
            "[[ 1  2  3 11 22 22]\n",
            " [ 4  5  6 22 21 23]]\n",
            "\n",
            "\n",
            "[[ 1  2  3]\n",
            " [ 4  5  6]\n",
            " [11 22 22]\n",
            " [22 21 23]]\n",
            "\n",
            "\n",
            "[array([11, 12, 13]), array([14, 15, 16]), array([17, 18, 19])]\n",
            "\n",
            "\n",
            "[array([11, 12, 13]), array([14, 15, 16]), array([17, 18, 19])]\n",
            "\n",
            "\n",
            "[array([[1, 2, 3]]), array([[4, 5, 6]]), array([], shape=(0, 3), dtype=int64)]\n"
          ]
        }
      ]
    },
    {
      "cell_type": "code",
      "source": [
        "# sorting with 2d array\n",
        "# aa = np.array([[1,4,22,3,2],[22,44,122,22,11]])\n",
        "# sa = np.sort(aa)\n",
        "# print(sa)\n",
        "\n",
        "# searching\n",
        "# aa = np.array([1,4,22,3,222,44,122,22,11])\n",
        "# ss = np.where(aa == 22)\n",
        "# print(ss)"
      ],
      "metadata": {
        "colab": {
          "base_uri": "https://localhost:8080/"
        },
        "id": "a8FXiZBCmZ6W",
        "outputId": "df2564bb-bf9b-49db-a6f4-f1fde9731067"
      },
      "execution_count": 48,
      "outputs": [
        {
          "output_type": "stream",
          "name": "stdout",
          "text": [
            "(array([2, 7]),)\n"
          ]
        }
      ]
    },
    {
      "cell_type": "code",
      "source": [
        "arr = np.array([20,40,70,60])\n",
        "print(np.sum(arr))\n",
        "print(np.min(arr))\n",
        "print(np.max(arr))\n",
        "print(np.size(arr))\n",
        "print(np.cumsum(arr))\n",
        "print(np.cumproduct(arr))"
      ],
      "metadata": {
        "colab": {
          "base_uri": "https://localhost:8080/"
        },
        "id": "A0yr8ReRmtIS",
        "outputId": "66bf9ed4-e24f-46e3-a6d3-cde49a08091e"
      },
      "execution_count": 50,
      "outputs": [
        {
          "output_type": "stream",
          "name": "stdout",
          "text": [
            "190\n",
            "20\n",
            "70\n",
            "4\n",
            "[ 20  60 130 190]\n",
            "[     20     800   56000 3360000]\n"
          ]
        }
      ]
    },
    {
      "cell_type": "code",
      "source": [
        "price=[100,150,200,300]\n",
        "quantity=[10,3,5,12]\n",
        "price = np.array(price)\n",
        "quantity = np.array(quantity)\n",
        "total = np.cumprod([price,quantity], axis=0) # cumprod can product the elements of two array index wise\n",
        "print(total)"
      ],
      "metadata": {
        "colab": {
          "base_uri": "https://localhost:8080/"
        },
        "id": "0894U_J3pshg",
        "outputId": "43379d63-c474-4e8c-8636-7a589371946e"
      },
      "execution_count": 53,
      "outputs": [
        {
          "output_type": "stream",
          "name": "stdout",
          "text": [
            "[[ 100  150  200  300]\n",
            " [1000  450 1000 3600]]\n"
          ]
        }
      ]
    },
    {
      "cell_type": "code",
      "source": [
        "import statistics as st\n",
        "baked_food = [200,210,220,190,180,110,320,200,210,210]\n",
        "a = np.array(baked_food)\n",
        "print(np.mean(baked_food)) # find the mean\n",
        "print(np.median(baked_food)) # find the median\n",
        "print(st.mode(baked_food)) # find the mode. Mode is the function of statistics library/module"
      ],
      "metadata": {
        "colab": {
          "base_uri": "https://localhost:8080/"
        },
        "id": "JwP83Dbdr5he",
        "outputId": "c7cd040b-e7f2-44b6-e667-1fc166f0d34b"
      },
      "execution_count": 57,
      "outputs": [
        {
          "output_type": "stream",
          "name": "stdout",
          "text": [
            "205.0\n",
            "205.0\n",
            "210\n"
          ]
        }
      ]
    },
    {
      "cell_type": "code",
      "source": [
        "# correlation coefficient using numpy\n",
        "# -1 represent inversely propotional relationship\n",
        "# 1 represent propotional relationship\n",
        "# 0 means no relationship\n",
        "\n",
        "# alcohol_consumption = [30,50,60,70,80]\n",
        "# deaths = [10,13,15,17,19]\n",
        "# print(np.corrcoef(alcohol_consumption,deaths))\n",
        "\n",
        "# Example data\n",
        "marketing_spend = [5000, 7000, 8000, 12000, 15000]  # X1: Marketing spend in $\n",
        "discounts = [10, 15, 20, 25, 30]  # X2: Discounts in %\n",
        "sales_revenue = [20000, 25000, 27000, 30000, 32000]  # Y: Sales revenue in $\n",
        "\n",
        "# Calculate correlation matrix\n",
        "corr_matrix = np.corrcoef([marketing_spend, discounts, sales_revenue])\n",
        "\n",
        "# Print correlation matrix\n",
        "print(corr_matrix)"
      ],
      "metadata": {
        "colab": {
          "base_uri": "https://localhost:8080/"
        },
        "id": "7bOE56sQvxCj",
        "outputId": "ff35f5ae-2041-4eab-f78d-9be7b8a6373e"
      },
      "execution_count": 59,
      "outputs": [
        {
          "output_type": "stream",
          "name": "stdout",
          "text": [
            "[[1.         0.97907556 0.94910563]\n",
            " [0.97907556 1.         0.98432414]\n",
            " [0.94910563 0.98432414 1.        ]]\n"
          ]
        }
      ]
    },
    {
      "cell_type": "code",
      "source": [
        "import pandas as pd\n",
        "df = pd.read_csv('hotel-booking-data.txt', delimiter=\"\\t\")\n",
        "df.head()"
      ],
      "metadata": {
        "colab": {
          "base_uri": "https://localhost:8080/",
          "height": 206
        },
        "id": "pXTjHcx-5nvo",
        "outputId": "3e5c6eb0-8b2f-43e6-c6ca-2860d89729db"
      },
      "execution_count": 69,
      "outputs": [
        {
          "output_type": "execute_result",
          "data": {
            "text/plain": [
              "         Date Company        Person Name  Room number\n",
              "0  1-Jan-2022  Avamba  Anatole Ridehalgh       4008.0\n",
              "1  1-Jan-2022    Fatz    Aldrich McKevin       2002.0\n",
              "2  1-Jan-2022   Leexo    Stanley Hadrill       4012.0\n",
              "3      Hotels     NaN                NaN          NaN\n",
              "4  1-Jan-2022  Rhyzio       Lyndell Tice       1006.0"
            ],
            "text/html": [
              "\n",
              "  <div id=\"df-78a01e63-ff03-4cdd-b409-4d05697df544\" class=\"colab-df-container\">\n",
              "    <div>\n",
              "<style scoped>\n",
              "    .dataframe tbody tr th:only-of-type {\n",
              "        vertical-align: middle;\n",
              "    }\n",
              "\n",
              "    .dataframe tbody tr th {\n",
              "        vertical-align: top;\n",
              "    }\n",
              "\n",
              "    .dataframe thead th {\n",
              "        text-align: right;\n",
              "    }\n",
              "</style>\n",
              "<table border=\"1\" class=\"dataframe\">\n",
              "  <thead>\n",
              "    <tr style=\"text-align: right;\">\n",
              "      <th></th>\n",
              "      <th>Date</th>\n",
              "      <th>Company</th>\n",
              "      <th>Person Name</th>\n",
              "      <th>Room number</th>\n",
              "    </tr>\n",
              "  </thead>\n",
              "  <tbody>\n",
              "    <tr>\n",
              "      <th>0</th>\n",
              "      <td>1-Jan-2022</td>\n",
              "      <td>Avamba</td>\n",
              "      <td>Anatole Ridehalgh</td>\n",
              "      <td>4008.0</td>\n",
              "    </tr>\n",
              "    <tr>\n",
              "      <th>1</th>\n",
              "      <td>1-Jan-2022</td>\n",
              "      <td>Fatz</td>\n",
              "      <td>Aldrich McKevin</td>\n",
              "      <td>2002.0</td>\n",
              "    </tr>\n",
              "    <tr>\n",
              "      <th>2</th>\n",
              "      <td>1-Jan-2022</td>\n",
              "      <td>Leexo</td>\n",
              "      <td>Stanley Hadrill</td>\n",
              "      <td>4012.0</td>\n",
              "    </tr>\n",
              "    <tr>\n",
              "      <th>3</th>\n",
              "      <td>Hotels</td>\n",
              "      <td>NaN</td>\n",
              "      <td>NaN</td>\n",
              "      <td>NaN</td>\n",
              "    </tr>\n",
              "    <tr>\n",
              "      <th>4</th>\n",
              "      <td>1-Jan-2022</td>\n",
              "      <td>Rhyzio</td>\n",
              "      <td>Lyndell Tice</td>\n",
              "      <td>1006.0</td>\n",
              "    </tr>\n",
              "  </tbody>\n",
              "</table>\n",
              "</div>\n",
              "    <div class=\"colab-df-buttons\">\n",
              "\n",
              "  <div class=\"colab-df-container\">\n",
              "    <button class=\"colab-df-convert\" onclick=\"convertToInteractive('df-78a01e63-ff03-4cdd-b409-4d05697df544')\"\n",
              "            title=\"Convert this dataframe to an interactive table.\"\n",
              "            style=\"display:none;\">\n",
              "\n",
              "  <svg xmlns=\"http://www.w3.org/2000/svg\" height=\"24px\" viewBox=\"0 -960 960 960\">\n",
              "    <path d=\"M120-120v-720h720v720H120Zm60-500h600v-160H180v160Zm220 220h160v-160H400v160Zm0 220h160v-160H400v160ZM180-400h160v-160H180v160Zm440 0h160v-160H620v160ZM180-180h160v-160H180v160Zm440 0h160v-160H620v160Z\"/>\n",
              "  </svg>\n",
              "    </button>\n",
              "\n",
              "  <style>\n",
              "    .colab-df-container {\n",
              "      display:flex;\n",
              "      gap: 12px;\n",
              "    }\n",
              "\n",
              "    .colab-df-convert {\n",
              "      background-color: #E8F0FE;\n",
              "      border: none;\n",
              "      border-radius: 50%;\n",
              "      cursor: pointer;\n",
              "      display: none;\n",
              "      fill: #1967D2;\n",
              "      height: 32px;\n",
              "      padding: 0 0 0 0;\n",
              "      width: 32px;\n",
              "    }\n",
              "\n",
              "    .colab-df-convert:hover {\n",
              "      background-color: #E2EBFA;\n",
              "      box-shadow: 0px 1px 2px rgba(60, 64, 67, 0.3), 0px 1px 3px 1px rgba(60, 64, 67, 0.15);\n",
              "      fill: #174EA6;\n",
              "    }\n",
              "\n",
              "    .colab-df-buttons div {\n",
              "      margin-bottom: 4px;\n",
              "    }\n",
              "\n",
              "    [theme=dark] .colab-df-convert {\n",
              "      background-color: #3B4455;\n",
              "      fill: #D2E3FC;\n",
              "    }\n",
              "\n",
              "    [theme=dark] .colab-df-convert:hover {\n",
              "      background-color: #434B5C;\n",
              "      box-shadow: 0px 1px 3px 1px rgba(0, 0, 0, 0.15);\n",
              "      filter: drop-shadow(0px 1px 2px rgba(0, 0, 0, 0.3));\n",
              "      fill: #FFFFFF;\n",
              "    }\n",
              "  </style>\n",
              "\n",
              "    <script>\n",
              "      const buttonEl =\n",
              "        document.querySelector('#df-78a01e63-ff03-4cdd-b409-4d05697df544 button.colab-df-convert');\n",
              "      buttonEl.style.display =\n",
              "        google.colab.kernel.accessAllowed ? 'block' : 'none';\n",
              "\n",
              "      async function convertToInteractive(key) {\n",
              "        const element = document.querySelector('#df-78a01e63-ff03-4cdd-b409-4d05697df544');\n",
              "        const dataTable =\n",
              "          await google.colab.kernel.invokeFunction('convertToInteractive',\n",
              "                                                    [key], {});\n",
              "        if (!dataTable) return;\n",
              "\n",
              "        const docLinkHtml = 'Like what you see? Visit the ' +\n",
              "          '<a target=\"_blank\" href=https://colab.research.google.com/notebooks/data_table.ipynb>data table notebook</a>'\n",
              "          + ' to learn more about interactive tables.';\n",
              "        element.innerHTML = '';\n",
              "        dataTable['output_type'] = 'display_data';\n",
              "        await google.colab.output.renderOutput(dataTable, element);\n",
              "        const docLink = document.createElement('div');\n",
              "        docLink.innerHTML = docLinkHtml;\n",
              "        element.appendChild(docLink);\n",
              "      }\n",
              "    </script>\n",
              "  </div>\n",
              "\n",
              "\n",
              "<div id=\"df-9da6c62b-03c9-44a1-b4fd-ada9bfd32dcd\">\n",
              "  <button class=\"colab-df-quickchart\" onclick=\"quickchart('df-9da6c62b-03c9-44a1-b4fd-ada9bfd32dcd')\"\n",
              "            title=\"Suggest charts\"\n",
              "            style=\"display:none;\">\n",
              "\n",
              "<svg xmlns=\"http://www.w3.org/2000/svg\" height=\"24px\"viewBox=\"0 0 24 24\"\n",
              "     width=\"24px\">\n",
              "    <g>\n",
              "        <path d=\"M19 3H5c-1.1 0-2 .9-2 2v14c0 1.1.9 2 2 2h14c1.1 0 2-.9 2-2V5c0-1.1-.9-2-2-2zM9 17H7v-7h2v7zm4 0h-2V7h2v10zm4 0h-2v-4h2v4z\"/>\n",
              "    </g>\n",
              "</svg>\n",
              "  </button>\n",
              "\n",
              "<style>\n",
              "  .colab-df-quickchart {\n",
              "      --bg-color: #E8F0FE;\n",
              "      --fill-color: #1967D2;\n",
              "      --hover-bg-color: #E2EBFA;\n",
              "      --hover-fill-color: #174EA6;\n",
              "      --disabled-fill-color: #AAA;\n",
              "      --disabled-bg-color: #DDD;\n",
              "  }\n",
              "\n",
              "  [theme=dark] .colab-df-quickchart {\n",
              "      --bg-color: #3B4455;\n",
              "      --fill-color: #D2E3FC;\n",
              "      --hover-bg-color: #434B5C;\n",
              "      --hover-fill-color: #FFFFFF;\n",
              "      --disabled-bg-color: #3B4455;\n",
              "      --disabled-fill-color: #666;\n",
              "  }\n",
              "\n",
              "  .colab-df-quickchart {\n",
              "    background-color: var(--bg-color);\n",
              "    border: none;\n",
              "    border-radius: 50%;\n",
              "    cursor: pointer;\n",
              "    display: none;\n",
              "    fill: var(--fill-color);\n",
              "    height: 32px;\n",
              "    padding: 0;\n",
              "    width: 32px;\n",
              "  }\n",
              "\n",
              "  .colab-df-quickchart:hover {\n",
              "    background-color: var(--hover-bg-color);\n",
              "    box-shadow: 0 1px 2px rgba(60, 64, 67, 0.3), 0 1px 3px 1px rgba(60, 64, 67, 0.15);\n",
              "    fill: var(--button-hover-fill-color);\n",
              "  }\n",
              "\n",
              "  .colab-df-quickchart-complete:disabled,\n",
              "  .colab-df-quickchart-complete:disabled:hover {\n",
              "    background-color: var(--disabled-bg-color);\n",
              "    fill: var(--disabled-fill-color);\n",
              "    box-shadow: none;\n",
              "  }\n",
              "\n",
              "  .colab-df-spinner {\n",
              "    border: 2px solid var(--fill-color);\n",
              "    border-color: transparent;\n",
              "    border-bottom-color: var(--fill-color);\n",
              "    animation:\n",
              "      spin 1s steps(1) infinite;\n",
              "  }\n",
              "\n",
              "  @keyframes spin {\n",
              "    0% {\n",
              "      border-color: transparent;\n",
              "      border-bottom-color: var(--fill-color);\n",
              "      border-left-color: var(--fill-color);\n",
              "    }\n",
              "    20% {\n",
              "      border-color: transparent;\n",
              "      border-left-color: var(--fill-color);\n",
              "      border-top-color: var(--fill-color);\n",
              "    }\n",
              "    30% {\n",
              "      border-color: transparent;\n",
              "      border-left-color: var(--fill-color);\n",
              "      border-top-color: var(--fill-color);\n",
              "      border-right-color: var(--fill-color);\n",
              "    }\n",
              "    40% {\n",
              "      border-color: transparent;\n",
              "      border-right-color: var(--fill-color);\n",
              "      border-top-color: var(--fill-color);\n",
              "    }\n",
              "    60% {\n",
              "      border-color: transparent;\n",
              "      border-right-color: var(--fill-color);\n",
              "    }\n",
              "    80% {\n",
              "      border-color: transparent;\n",
              "      border-right-color: var(--fill-color);\n",
              "      border-bottom-color: var(--fill-color);\n",
              "    }\n",
              "    90% {\n",
              "      border-color: transparent;\n",
              "      border-bottom-color: var(--fill-color);\n",
              "    }\n",
              "  }\n",
              "</style>\n",
              "\n",
              "  <script>\n",
              "    async function quickchart(key) {\n",
              "      const quickchartButtonEl =\n",
              "        document.querySelector('#' + key + ' button');\n",
              "      quickchartButtonEl.disabled = true;  // To prevent multiple clicks.\n",
              "      quickchartButtonEl.classList.add('colab-df-spinner');\n",
              "      try {\n",
              "        const charts = await google.colab.kernel.invokeFunction(\n",
              "            'suggestCharts', [key], {});\n",
              "      } catch (error) {\n",
              "        console.error('Error during call to suggestCharts:', error);\n",
              "      }\n",
              "      quickchartButtonEl.classList.remove('colab-df-spinner');\n",
              "      quickchartButtonEl.classList.add('colab-df-quickchart-complete');\n",
              "    }\n",
              "    (() => {\n",
              "      let quickchartButtonEl =\n",
              "        document.querySelector('#df-9da6c62b-03c9-44a1-b4fd-ada9bfd32dcd button');\n",
              "      quickchartButtonEl.style.display =\n",
              "        google.colab.kernel.accessAllowed ? 'block' : 'none';\n",
              "    })();\n",
              "  </script>\n",
              "</div>\n",
              "\n",
              "    </div>\n",
              "  </div>\n"
            ],
            "application/vnd.google.colaboratory.intrinsic+json": {
              "type": "dataframe",
              "variable_name": "df",
              "summary": "{\n  \"name\": \"df\",\n  \"rows\": 195,\n  \"fields\": [\n    {\n      \"column\": \"Date\",\n      \"properties\": {\n        \"dtype\": \"category\",\n        \"num_unique_values\": 6,\n        \"samples\": [\n          \"1-Jan-2022\",\n          \"Hotels\",\n          \"Travel Agent 007\"\n        ],\n        \"semantic_type\": \"\",\n        \"description\": \"\"\n      }\n    },\n    {\n      \"column\": \"Company\",\n      \"properties\": {\n        \"dtype\": \"string\",\n        \"num_unique_values\": 114,\n        \"samples\": [\n          \"Realcube\",\n          \"Eadel\",\n          \"Topiclounge\"\n        ],\n        \"semantic_type\": \"\",\n        \"description\": \"\"\n      }\n    },\n    {\n      \"column\": \"Person Name\",\n      \"properties\": {\n        \"dtype\": \"string\",\n        \"num_unique_values\": 153,\n        \"samples\": [\n          \"Emmet Schmidt\",\n          \"Oby Reddington\",\n          \"Marven Burbudge\"\n        ],\n        \"semantic_type\": \"\",\n        \"description\": \"\"\n      }\n    },\n    {\n      \"column\": \"Room number\",\n      \"properties\": {\n        \"dtype\": \"number\",\n        \"std\": 1718.7911864158657,\n        \"min\": 1001.0,\n        \"max\": 7002.0,\n        \"num_unique_values\": 60,\n        \"samples\": [\n          4008.0,\n          2005.0,\n          1011.0\n        ],\n        \"semantic_type\": \"\",\n        \"description\": \"\"\n      }\n    }\n  ]\n}"
            }
          },
          "metadata": {},
          "execution_count": 69
        }
      ]
    }
  ]
}
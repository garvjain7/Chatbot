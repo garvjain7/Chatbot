{
  "nbformat": 4,
  "nbformat_minor": 0,
  "metadata": {
    "colab": {
      "provenance": [],
      "authorship_tag": "ABX9TyOwNc51eQB2JNFRHrdVCZ28",
      "include_colab_link": true
    },
    "kernelspec": {
      "name": "python3",
      "display_name": "Python 3"
    },
    "language_info": {
      "name": "python"
    }
  },
  "cells": [
    {
      "cell_type": "markdown",
      "metadata": {
        "id": "view-in-github",
        "colab_type": "text"
      },
      "source": [
        "<a href=\"https://colab.research.google.com/github/garvjain7/Chatbot/blob/main/Copy_of_Untitled1.ipynb\" target=\"_parent\"><img src=\"https://colab.research.google.com/assets/colab-badge.svg\" alt=\"Open In Colab\"/></a>"
      ]
    },
    {
      "cell_type": "markdown",
      "source": [
        "Que 1. Way to accept name of the student and display \"welcome to the class\"italicized text with the name entered."
      ],
      "metadata": {
        "id": "B4zethPfu6wn"
      }
    },
    {
      "cell_type": "code",
      "execution_count": null,
      "metadata": {
        "colab": {
          "base_uri": "https://localhost:8080/"
        },
        "id": "o18Z1irEu0o6",
        "outputId": "b09186e5-a5fc-4991-f44b-353e303d4ce7"
      },
      "outputs": [
        {
          "output_type": "stream",
          "name": "stdout",
          "text": [
            "Enter the name of the student: Garv Jain\n",
            "Garv Jain welcome to the class\n"
          ]
        }
      ],
      "source": [
        "# To input the name of the student.\n",
        "name = input(\"Enter the name of the student: \")\n",
        "# Welcome to the class with the name of the student.\n",
        "print(f\"{name} welcome to the class\")"
      ]
    },
    {
      "cell_type": "markdown",
      "source": [
        "Que 2. Write a program to swap the values of two variable."
      ],
      "metadata": {
        "id": "-grF_bHBv5iS"
      }
    },
    {
      "cell_type": "code",
      "source": [
        "a = 4\n",
        "b = 5\n",
        "print(\"The value of a is\", a)\n",
        "print(\"The value of b is\", b)\n",
        "temp = a\n",
        "a = b\n",
        "b = temp\n",
        "print(\"The value of a after swapping is\", a)\n",
        "print(\"The value of b after swapping is\", b)"
      ],
      "metadata": {
        "colab": {
          "base_uri": "https://localhost:8080/"
        },
        "id": "d2zvJNxOwIDx",
        "outputId": "33ae7f16-18d0-4f0a-b6d8-03c5da334926"
      },
      "execution_count": null,
      "outputs": [
        {
          "output_type": "stream",
          "name": "stdout",
          "text": [
            "The value of a is 4\n",
            "The value of b is 5\n",
            "The value of a after swapping is 5\n",
            "The value of b after swapping is 4\n"
          ]
        }
      ]
    },
    {
      "cell_type": "markdown",
      "source": [
        "Que 3. Perform arithmetic operations (+, -, *, /) in Python."
      ],
      "metadata": {
        "id": "Vb9YvMffxKfN"
      }
    },
    {
      "cell_type": "code",
      "source": [
        "a = 4\n",
        "b = 5\n",
        "print(f\"The addition of {a} and {b} is\", a + b)\n",
        "print(f\"The subtraction of {a} and {b} is\", b - a)\n",
        "print(f\"The multiplication of {a} and {b} is\", a * b)\n",
        "print(f\"The division of {a} and {b} is\", b / a)"
      ],
      "metadata": {
        "colab": {
          "base_uri": "https://localhost:8080/"
        },
        "id": "97S9PgelxaWF",
        "outputId": "ba6d0241-6e9b-48dc-a352-bcc76f37c719"
      },
      "execution_count": null,
      "outputs": [
        {
          "output_type": "stream",
          "name": "stdout",
          "text": [
            "The addition of 4 and 5 is 9\n",
            "The subtraction of 4 and 5 is 1\n",
            "The multiplication of 4 and 5 is 20\n",
            "The division of 4 and 5 is 1.25\n"
          ]
        }
      ]
    },
    {
      "cell_type": "markdown",
      "source": [
        "Que 4. What are the different data types in Python?\n"
      ],
      "metadata": {
        "id": "e2UcsjfMyrEe"
      }
    },
    {
      "cell_type": "code",
      "source": [
        "'''Ans. There are mainly four types of data types present in Python programming language.\n",
        "These are:\n",
        "1.) Integer(int)\n",
        "2.) Floating point Number(float)\n",
        "3.) String(str)\n",
        "4.) Boolean(bool)\n",
        "'''"
      ],
      "metadata": {
        "id": "zsuDP3pM1h5U"
      },
      "execution_count": null,
      "outputs": []
    },
    {
      "cell_type": "markdown",
      "source": [
        "Que 5. Write a function that calculates factorial of a number."
      ],
      "metadata": {
        "id": "u3CytpTO2MUU"
      }
    },
    {
      "cell_type": "code",
      "source": [
        "def factorial(n):\n",
        "    result = 1\n",
        "    for i in range(1, n + 1):\n",
        "        result *= i\n",
        "    return result\n",
        "factorial(6)"
      ],
      "metadata": {
        "colab": {
          "base_uri": "https://localhost:8080/"
        },
        "id": "zof-9xCI4KM3",
        "outputId": "2e88862e-d4ab-4670-f7d5-c3781e46720f"
      },
      "execution_count": null,
      "outputs": [
        {
          "output_type": "execute_result",
          "data": {
            "text/plain": [
              "720"
            ]
          },
          "metadata": {},
          "execution_count": 10
        }
      ]
    },
    {
      "cell_type": "markdown",
      "source": [
        "Que 6. Explain the concept of dynamic typing in Python."
      ],
      "metadata": {
        "id": "_hhgqwkq4Yv7"
      }
    },
    {
      "cell_type": "markdown",
      "source": [
        "Ans 6. Dynamic typing is a feature of Python where the type of a variable is determined at runtime rather than at compile time. This means that you don't need to declare the type of a variable when you create it. Instead, the type is inferred from the value assigned to it."
      ],
      "metadata": {
        "id": "cSt_oM_04l4p"
      }
    },
    {
      "cell_type": "markdown",
      "source": [
        "Que 7. Write a Python function to check whether a number falls within a given range."
      ],
      "metadata": {
        "id": "AS3i3L9j5Ci7"
      }
    },
    {
      "cell_type": "code",
      "source": [
        "# To check whether a number is in particular range or not.\n",
        "def is_in_range(LowerRange, Num, UpperRange):\n",
        "    if LowerRange <= Num <= UpperRange:\n",
        "        return True\n",
        "    else:\n",
        "        return False\n",
        "print(is_in_range(5, 10, 15))\n",
        "print(is_in_range(10, 5, 15))"
      ],
      "metadata": {
        "colab": {
          "base_uri": "https://localhost:8080/"
        },
        "id": "L2-Meak25LTh",
        "outputId": "b1c75490-c52e-4e05-896c-2d0bd2bfbf83"
      },
      "execution_count": null,
      "outputs": [
        {
          "output_type": "stream",
          "name": "stdout",
          "text": [
            "True\n",
            "False\n"
          ]
        }
      ]
    },
    {
      "cell_type": "markdown",
      "source": [
        "Que 8. Write a Python function that takes a number as a parameter and checks whether the number is prime or not."
      ],
      "metadata": {
        "id": "3rp-laln7HBE"
      }
    },
    {
      "cell_type": "code",
      "source": [
        "def prime(n):\n",
        "    if n <= 1:\n",
        "        return False\n",
        "    if n == 2:\n",
        "        return True  # 2 is the only even prime number\n",
        "    if n % 2 == 0:\n",
        "        return False  # other even numbers are not prime\n",
        "    for i in range(3, int(n**0.5) + 1, 2):\n",
        "        if n % i == 0:\n",
        "            return False\n",
        "    return True\n",
        "print(prime(-1))\n",
        "print(prime(2))\n",
        "print(prime(3))\n",
        "print(prime(4))"
      ],
      "metadata": {
        "colab": {
          "base_uri": "https://localhost:8080/"
        },
        "id": "oCBWWJlL7ZJZ",
        "outputId": "1e3db6d3-28a6-44a1-e136-de61b8eb41e0"
      },
      "execution_count": null,
      "outputs": [
        {
          "output_type": "stream",
          "name": "stdout",
          "text": [
            "False\n",
            "True\n",
            "True\n",
            "False\n"
          ]
        }
      ]
    }
  ]
}
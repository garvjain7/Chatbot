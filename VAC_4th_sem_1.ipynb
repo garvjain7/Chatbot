{
  "nbformat": 4,
  "nbformat_minor": 0,
  "metadata": {
    "colab": {
      "provenance": [],
      "authorship_tag": "ABX9TyPWqOhVl9sNHsM2cI15eEQw",
      "include_colab_link": true
    },
    "kernelspec": {
      "name": "python3",
      "display_name": "Python 3"
    },
    "language_info": {
      "name": "python"
    }
  },
  "cells": [
    {
      "cell_type": "markdown",
      "metadata": {
        "id": "view-in-github",
        "colab_type": "text"
      },
      "source": [
        "<a href=\"https://colab.research.google.com/github/garvjain7/Chatbot/blob/main/VAC_4th_sem_1.ipynb\" target=\"_parent\"><img src=\"https://colab.research.google.com/assets/colab-badge.svg\" alt=\"Open In Colab\"/></a>"
      ]
    },
    {
      "cell_type": "code",
      "execution_count": 4,
      "metadata": {
        "colab": {
          "base_uri": "https://localhost:8080/"
        },
        "id": "KINxTESP_K1a",
        "outputId": "c9c5436c-4eae-4cbe-e104-cad5d01c3c53"
      },
      "outputs": [
        {
          "output_type": "stream",
          "name": "stdout",
          "text": [
            "Hello World\n",
            "<class 'int'>\n",
            "<class 'float'>\n",
            "<class 'str'>\n",
            "<class 'bool'>\n"
          ]
        }
      ],
      "source": [
        "# Data types in python :\n",
        "# 1,2,3,4,5,6 -> integer\n",
        "# 1.1,2.2,3.3,4.4,5.5,6.6 -> float\n",
        "# \"Machine\",\"Hello\",\"PIET\" -> string\n",
        "# True,False -> Boolean expression\n",
        "\n",
        "# Data containers :\n",
        "# set\n",
        "# list\n",
        "# tuple\n",
        "# dictionary\n",
        "\n",
        "# indexing and slicing\n",
        "# data = {1,2,3,4,5,6}\n",
        "# +ve indexing - 0 1 2 3 4 5\n",
        "# -ve indexing - -6 -5 -4 -3 -2 -1\n",
        "\n",
        "print(\"Hello World\")\n",
        "a = 10\n",
        "print(type(a)) # to determine the data type of variable declared\n",
        "b = 14.5\n",
        "print(type(b))\n",
        "c = \"Hello\"\n",
        "print(type(c))\n",
        "d = True\n",
        "print(type(d))"
      ]
    },
    {
      "cell_type": "code",
      "source": [
        "# Types of division\n",
        "# foat division(/) ->give a float value after division\n",
        "# floor division(//) -> give a round off value after division\n",
        "# by modulus operator(%) -> give the remainder as output after division\n",
        "\n",
        "# Types of multiplication\n",
        "# simple multiply(*)\n",
        "# exponential(a**b) -> a to to the power b"
      ],
      "metadata": {
        "id": "qt63Ss8jOZQ5"
      },
      "execution_count": null,
      "outputs": []
    },
    {
      "cell_type": "code",
      "source": [
        "#list\n",
        "list = [1,2,3,\"Hello\", \"Garv Jain\", 10.25, True]\n",
        "print(list)\n",
        "print(list[3])\n",
        "\n",
        "l = [1,2,3,4,5,6,7,8,9,10]\n",
        "print(l[1::2])\n",
        "del l[3] # to delete an element from the particular index\n",
        "print(l)\n",
        "l.reverse()\n",
        "print(l)\n",
        "print(\"\\n\")\n",
        "\n",
        "\n",
        "# creating a new list\n",
        "# we have to find the second largest element in the lsit l1\n",
        "l1 = [12,12,55,76,88,44,67,33,88,108,105]\n",
        "l1.sort() # by passing reverse = True as a parameter in sort function it can sort the list in descending order\n",
        "# by default sorting order is ascending\n",
        "print(l1[-2])"
      ],
      "metadata": {
        "colab": {
          "base_uri": "https://localhost:8080/"
        },
        "id": "Db32K2-gSXDJ",
        "outputId": "934de7cc-efef-4965-9cea-44494a69d11b"
      },
      "execution_count": 19,
      "outputs": [
        {
          "output_type": "stream",
          "name": "stdout",
          "text": [
            "[1, 2, 3, 'Hello', 'Garv Jain', 10.25, True]\n",
            "Hello\n",
            "[2, 4, 6, 8, 10]\n",
            "[1, 2, 3, 5, 6, 7, 8, 9, 10]\n",
            "[10, 9, 8, 7, 6, 5, 3, 2, 1]\n",
            "\n",
            "\n",
            "105\n"
          ]
        }
      ]
    },
    {
      "cell_type": "code",
      "source": [
        "print(sorted(l1)[-2])"
      ],
      "metadata": {
        "colab": {
          "base_uri": "https://localhost:8080/"
        },
        "id": "-RVfZmegeOT8",
        "outputId": "b212aa69-afab-4383-ff18-6c1497207932"
      },
      "execution_count": 26,
      "outputs": [
        {
          "output_type": "stream",
          "name": "stdout",
          "text": [
            "105\n"
          ]
        }
      ]
    },
    {
      "cell_type": "code",
      "source": [
        "# tuples in python\n",
        "tuple = (11,12,13,14,15,16,17)\n",
        "print(tuple.count(13))\n",
        "\n",
        "print(tuple.index(16))\n",
        "\n",
        "my_tuple = {10, 20, 30}\n",
        "print(type(my_tuple))"
      ],
      "metadata": {
        "colab": {
          "base_uri": "https://localhost:8080/"
        },
        "id": "RcLyhdX5flnz",
        "outputId": "8f321d70-bc81-4a37-94f3-b4b7299ba3d4"
      },
      "execution_count": 31,
      "outputs": [
        {
          "output_type": "stream",
          "name": "stdout",
          "text": [
            "1\n",
            "5\n",
            "<class 'set'>\n"
          ]
        }
      ]
    }
  ]
}
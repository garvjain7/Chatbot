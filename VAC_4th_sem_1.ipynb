{
  "nbformat": 4,
  "nbformat_minor": 0,
  "metadata": {
    "colab": {
      "provenance": [],
      "authorship_tag": "ABX9TyPOv4OeISCK/t8odJMEaBca",
      "include_colab_link": true
    },
    "kernelspec": {
      "name": "python3",
      "display_name": "Python 3"
    },
    "language_info": {
      "name": "python"
    }
  },
  "cells": [
    {
      "cell_type": "markdown",
      "metadata": {
        "id": "view-in-github",
        "colab_type": "text"
      },
      "source": [
        "<a href=\"https://colab.research.google.com/github/garvjain7/Chatbot/blob/main/VAC_4th_sem_1.ipynb\" target=\"_parent\"><img src=\"https://colab.research.google.com/assets/colab-badge.svg\" alt=\"Open In Colab\"/></a>"
      ]
    },
    {
      "cell_type": "code",
      "execution_count": 1,
      "metadata": {
        "colab": {
          "base_uri": "https://localhost:8080/"
        },
        "id": "KINxTESP_K1a",
        "outputId": "0251fba1-cacc-4d02-f570-5492e3cbc002"
      },
      "outputs": [
        {
          "output_type": "stream",
          "name": "stdout",
          "text": [
            "Hello World\n",
            "<class 'int'>\n",
            "<class 'float'>\n",
            "<class 'str'>\n",
            "<class 'bool'>\n"
          ]
        }
      ],
      "source": [
        "# Data types in python :\n",
        "# 1,2,3,4,5,6 -> integer\n",
        "# 1.1,2.2,3.3,4.4,5.5,6.6 -> float\n",
        "# \"Machine\",\"Hello\",\"PIET\" -> string\n",
        "# True,False -> Boolean expression\n",
        "\n",
        "# Data containers :\n",
        "# set\n",
        "# list\n",
        "# tuple\n",
        "# dictionary\n",
        "\n",
        "# indexing and slicing\n",
        "# data = {1,2,3,4,5,6}\n",
        "# +ve indexing - 0 1 2 3 4 5\n",
        "# -ve indexing - -6 -5 -4 -3 -2 -1\n",
        "\n",
        "print(\"Hello World\")\n",
        "a = 10\n",
        "print(type(a)) # to determine the data type of variable declared\n",
        "b = 14.5\n",
        "print(type(b))\n",
        "c = \"Hello\"\n",
        "print(type(c))\n",
        "d = True\n",
        "print(type(d))"
      ]
    },
    {
      "cell_type": "code",
      "source": [
        "# Types of division\n",
        "# foat division(/) ->give a float value after division\n",
        "# floor division(//) -> give a round off value after division\n",
        "# by modulus operator(%) -> give the remainder as output after division\n",
        "\n",
        "# Types of multiplication\n",
        "# simple multiply(*)\n",
        "# exponential(a**b) -> a to to the power b"
      ],
      "metadata": {
        "id": "qt63Ss8jOZQ5"
      },
      "execution_count": null,
      "outputs": []
    },
    {
      "cell_type": "code",
      "source": [
        "#list\n",
        "list = [1,2,3,\"Hello\", \"Garv Jain\", 10.25, True]\n",
        "print(list)\n",
        "print(list[3])\n",
        "\n",
        "l = [1,2,3,4,5,6,7,8,9,10]\n",
        "print(l[1::2])\n",
        "del l[3] # to delete an element from the particular index\n",
        "print(l)\n",
        "l.reverse()\n",
        "print(l)\n",
        "print(\"\\n\")\n",
        "\n",
        "\n",
        "# creating a new list\n",
        "# we have to find the second largest element in the lsit l1\n",
        "l1 = [12,12,55,76,88,44,67,33,88,108,105]\n",
        "l1.sort() # by passing reverse = True as a parameter in sort function it can sort the list in descending order\n",
        "# by default sorting order is ascending\n",
        "print(l1[-2])"
      ],
      "metadata": {
        "colab": {
          "base_uri": "https://localhost:8080/"
        },
        "id": "Db32K2-gSXDJ",
        "outputId": "934de7cc-efef-4965-9cea-44494a69d11b"
      },
      "execution_count": 19,
      "outputs": [
        {
          "output_type": "stream",
          "name": "stdout",
          "text": [
            "[1, 2, 3, 'Hello', 'Garv Jain', 10.25, True]\n",
            "Hello\n",
            "[2, 4, 6, 8, 10]\n",
            "[1, 2, 3, 5, 6, 7, 8, 9, 10]\n",
            "[10, 9, 8, 7, 6, 5, 3, 2, 1]\n",
            "\n",
            "\n",
            "105\n"
          ]
        }
      ]
    },
    {
      "cell_type": "code",
      "source": [
        "print(sorted(l1)[-2])"
      ],
      "metadata": {
        "colab": {
          "base_uri": "https://localhost:8080/"
        },
        "id": "-RVfZmegeOT8",
        "outputId": "b212aa69-afab-4383-ff18-6c1497207932"
      },
      "execution_count": 26,
      "outputs": [
        {
          "output_type": "stream",
          "name": "stdout",
          "text": [
            "105\n"
          ]
        }
      ]
    },
    {
      "cell_type": "code",
      "source": [
        "# tuples in python\n",
        "tuple = (11,12,13,14,15,16,17)\n",
        "print(tuple.count(13))\n",
        "\n",
        "print(tuple.index(16))\n",
        "\n",
        "my_tuple = {10, 20, 30}\n",
        "print(type(my_tuple))"
      ],
      "metadata": {
        "colab": {
          "base_uri": "https://localhost:8080/"
        },
        "id": "RcLyhdX5flnz",
        "outputId": "8f321d70-bc81-4a37-94f3-b4b7299ba3d4"
      },
      "execution_count": 31,
      "outputs": [
        {
          "output_type": "stream",
          "name": "stdout",
          "text": [
            "1\n",
            "5\n",
            "<class 'set'>\n"
          ]
        }
      ]
    },
    {
      "cell_type": "code",
      "source": [
        "list = [1,1,12,23,4,5,12,32,32,32,897]\n",
        "print(list)\n",
        "list1 = set(list)\n",
        "print(list1)\n",
        "print(sorted(list1))"
      ],
      "metadata": {
        "colab": {
          "base_uri": "https://localhost:8080/"
        },
        "id": "oAtXr1Dak9uW",
        "outputId": "8989c053-8335-494f-9d46-c68594bb131c"
      },
      "execution_count": 36,
      "outputs": [
        {
          "output_type": "stream",
          "name": "stdout",
          "text": [
            "[1, 1, 12, 23, 4, 5, 12, 32, 32, 32, 897]\n",
            "{32, 1, 897, 4, 5, 12, 23}\n",
            "[1, 4, 5, 12, 23, 32, 897]\n"
          ]
        }
      ]
    },
    {
      "cell_type": "code",
      "source": [
        "dict = {\"name\":\"garv\",\"language\":\"python\",\"section\":\"d\"}\n",
        "for key, value in dict.items():\n",
        "    print(f\"{key}: {value}\")\n",
        "\n",
        "dict.popitem() # pop out the last value from the dictionary\n",
        "print(dict)"
      ],
      "metadata": {
        "colab": {
          "base_uri": "https://localhost:8080/"
        },
        "id": "J_69vhb4oF2x",
        "outputId": "7dd19f6b-326a-427b-9815-518c5ddcb335"
      },
      "execution_count": 45,
      "outputs": [
        {
          "output_type": "stream",
          "name": "stdout",
          "text": [
            "name: garv\n",
            "language: python\n",
            "section: d\n",
            "{'name': 'garv', 'language': 'python'}\n"
          ]
        }
      ]
    },
    {
      "cell_type": "code",
      "source": [
        "# # input a number from the user and check it for even or odd\n",
        "# num = int(input(\"Enter a number: \"))\n",
        "# print(\"the number is\", num)\n",
        "# if num%2==0:\n",
        "#   print(\"the no. is even\")\n",
        "# else:\n",
        "#   print(\"the no. is odd\")\n",
        "\n",
        "\n",
        "# take a number as input and check if it is divisible by 3 or 5 or by both or not by any of them\n",
        "num = int(input(\"Enter a number: \"))\n",
        "print(\"the number is\", num)\n",
        "if num%3==0 and num%5==0:\n",
        "  print(\"the no. is divisible by 3 and 5\")\n",
        "elif num%5==0:\n",
        "  print(\"the no. is divisible by 5\")\n",
        "elif num%3==0:\n",
        "  print(\"the no. is divisible by 3\")\n",
        "else:\n",
        "  print(\"the no. is not divisible by 3 or 5\")"
      ],
      "metadata": {
        "colab": {
          "base_uri": "https://localhost:8080/"
        },
        "id": "SMGzqgpfuA6u",
        "outputId": "6a0816a2-c808-4d2a-a9a2-7568daf71ae4"
      },
      "execution_count": 70,
      "outputs": [
        {
          "output_type": "stream",
          "name": "stdout",
          "text": [
            "Enter a number: 897675\n",
            "the number is 897675\n",
            "the no. is divisible by 3 and 5\n"
          ]
        }
      ]
    },
    {
      "cell_type": "code",
      "source": [
        "# l=[1,2,3,4,5,6,7,8,9,10]\n",
        "# for i in l:\n",
        "#   print(i)\n",
        "\n",
        "# s = \"Hello World\"\n",
        "# for i in s:\n",
        "#   print(i, end=\" \")\n",
        "\n",
        "# take a number as input from user and\n",
        "# n = int(input(\"Enter the number: \"))\n",
        "# list1 = []\n",
        "# for i in range(n):\n",
        "#   word = input(f\"Enter the {i+1}th character: \")\n",
        "#   list1.append(word)\n",
        "\n",
        "# print(list1)"
      ],
      "metadata": {
        "colab": {
          "base_uri": "https://localhost:8080/"
        },
        "id": "cVYAOddWA_cy",
        "outputId": "605d74ba-570e-4060-f280-344d0e4288b4"
      },
      "execution_count": 97,
      "outputs": [
        {
          "output_type": "stream",
          "name": "stdout",
          "text": [
            "Enter the number: 6\n",
            "Enter the 1th character: 1\n",
            "Enter the 2th character: 2\n",
            "Enter the 3th character: 3\n",
            "Enter the 4th character: 4\n",
            "Enter the 5th character: 5\n",
            "Enter the 6th character: 6\n",
            "['1', '2', '3', '4', '5', '6']\n"
          ]
        }
      ]
    },
    {
      "cell_type": "code",
      "source": [
        "# while loop\n",
        "n=11\n",
        "while n<=20:\n",
        "  print(n)\n",
        "  n=n+1"
      ],
      "metadata": {
        "colab": {
          "base_uri": "https://localhost:8080/"
        },
        "id": "TuifsaJWLcxs",
        "outputId": "e628e352-81bd-418d-822c-7e95a0b03a78"
      },
      "execution_count": 100,
      "outputs": [
        {
          "output_type": "stream",
          "name": "stdout",
          "text": [
            "11\n",
            "12\n",
            "13\n",
            "14\n",
            "15\n",
            "16\n",
            "17\n",
            "18\n",
            "19\n",
            "20\n"
          ]
        }
      ]
    },
    {
      "cell_type": "code",
      "source": [
        "# Define a function\n",
        "def square(a):\n",
        "    return a * a\n",
        "# Define a list\n",
        "list5 = [1, 35, 7565, 3, 56, 3567, 53, 67, 64]\n",
        "# Ensure that 'list' function is used correctly\n",
        "list4 = list(map(square, list5))\n",
        "print(list4)"
      ],
      "metadata": {
        "colab": {
          "base_uri": "https://localhost:8080/",
          "height": 200
        },
        "id": "O6Ejo5QbOQ4H",
        "outputId": "ba308afd-1036-4d3c-bb89-0294f3d9bf3b"
      },
      "execution_count": 141,
      "outputs": [
        {
          "output_type": "error",
          "ename": "TypeError",
          "evalue": "'list' object is not callable",
          "traceback": [
            "\u001b[0;31m---------------------------------------------------------------------------\u001b[0m",
            "\u001b[0;31mTypeError\u001b[0m                                 Traceback (most recent call last)",
            "\u001b[0;32m<ipython-input-141-9d5895108893>\u001b[0m in \u001b[0;36m<cell line: 0>\u001b[0;34m()\u001b[0m\n\u001b[1;32m      5\u001b[0m \u001b[0mlist5\u001b[0m \u001b[0;34m=\u001b[0m \u001b[0;34m[\u001b[0m\u001b[0;36m1\u001b[0m\u001b[0;34m,\u001b[0m \u001b[0;36m35\u001b[0m\u001b[0;34m,\u001b[0m \u001b[0;36m7565\u001b[0m\u001b[0;34m,\u001b[0m \u001b[0;36m3\u001b[0m\u001b[0;34m,\u001b[0m \u001b[0;36m56\u001b[0m\u001b[0;34m,\u001b[0m \u001b[0;36m3567\u001b[0m\u001b[0;34m,\u001b[0m \u001b[0;36m53\u001b[0m\u001b[0;34m,\u001b[0m \u001b[0;36m67\u001b[0m\u001b[0;34m,\u001b[0m \u001b[0;36m64\u001b[0m\u001b[0;34m]\u001b[0m\u001b[0;34m\u001b[0m\u001b[0;34m\u001b[0m\u001b[0m\n\u001b[1;32m      6\u001b[0m \u001b[0;31m# Ensure that 'list' function is used correctly\u001b[0m\u001b[0;34m\u001b[0m\u001b[0;34m\u001b[0m\u001b[0m\n\u001b[0;32m----> 7\u001b[0;31m \u001b[0mlist4\u001b[0m \u001b[0;34m=\u001b[0m \u001b[0mlist\u001b[0m\u001b[0;34m(\u001b[0m\u001b[0mmap\u001b[0m\u001b[0;34m(\u001b[0m\u001b[0msquare\u001b[0m\u001b[0;34m,\u001b[0m \u001b[0mlist5\u001b[0m\u001b[0;34m)\u001b[0m\u001b[0;34m)\u001b[0m\u001b[0;34m\u001b[0m\u001b[0;34m\u001b[0m\u001b[0m\n\u001b[0m\u001b[1;32m      8\u001b[0m \u001b[0mprint\u001b[0m\u001b[0;34m(\u001b[0m\u001b[0mlist4\u001b[0m\u001b[0;34m)\u001b[0m\u001b[0;34m\u001b[0m\u001b[0;34m\u001b[0m\u001b[0m\n",
            "\u001b[0;31mTypeError\u001b[0m: 'list' object is not callable"
          ]
        }
      ]
    },
    {
      "cell_type": "code",
      "source": [
        "def rich(n):\n",
        "  return n>15000\n",
        "pocket_money = [12800,13700,20500,7845,10000,45000]\n",
        "rich_students =list(filter(rich,pocket_money))\n",
        "print(rich_students)"
      ],
      "metadata": {
        "colab": {
          "base_uri": "https://localhost:8080/",
          "height": 200
        },
        "id": "RiVmH6IgR2a3",
        "outputId": "295d685e-408c-4631-cb41-44785cb2884b"
      },
      "execution_count": 142,
      "outputs": [
        {
          "output_type": "error",
          "ename": "TypeError",
          "evalue": "'list' object is not callable",
          "traceback": [
            "\u001b[0;31m---------------------------------------------------------------------------\u001b[0m",
            "\u001b[0;31mTypeError\u001b[0m                                 Traceback (most recent call last)",
            "\u001b[0;32m<ipython-input-142-978fae42c209>\u001b[0m in \u001b[0;36m<cell line: 0>\u001b[0;34m()\u001b[0m\n\u001b[1;32m      2\u001b[0m   \u001b[0;32mreturn\u001b[0m \u001b[0mn\u001b[0m\u001b[0;34m>\u001b[0m\u001b[0;36m15000\u001b[0m\u001b[0;34m\u001b[0m\u001b[0;34m\u001b[0m\u001b[0m\n\u001b[1;32m      3\u001b[0m \u001b[0mpocket_money\u001b[0m \u001b[0;34m=\u001b[0m \u001b[0;34m[\u001b[0m\u001b[0;36m12800\u001b[0m\u001b[0;34m,\u001b[0m\u001b[0;36m13700\u001b[0m\u001b[0;34m,\u001b[0m\u001b[0;36m20500\u001b[0m\u001b[0;34m,\u001b[0m\u001b[0;36m7845\u001b[0m\u001b[0;34m,\u001b[0m\u001b[0;36m10000\u001b[0m\u001b[0;34m,\u001b[0m\u001b[0;36m45000\u001b[0m\u001b[0;34m]\u001b[0m\u001b[0;34m\u001b[0m\u001b[0;34m\u001b[0m\u001b[0m\n\u001b[0;32m----> 4\u001b[0;31m \u001b[0mrich_students\u001b[0m \u001b[0;34m=\u001b[0m\u001b[0mlist\u001b[0m\u001b[0;34m(\u001b[0m\u001b[0mfilter\u001b[0m\u001b[0;34m(\u001b[0m\u001b[0mrich\u001b[0m\u001b[0;34m,\u001b[0m\u001b[0mpocket_money\u001b[0m\u001b[0;34m)\u001b[0m\u001b[0;34m)\u001b[0m\u001b[0;34m\u001b[0m\u001b[0;34m\u001b[0m\u001b[0m\n\u001b[0m\u001b[1;32m      5\u001b[0m \u001b[0mprint\u001b[0m\u001b[0;34m(\u001b[0m\u001b[0mrich_students\u001b[0m\u001b[0;34m)\u001b[0m\u001b[0;34m\u001b[0m\u001b[0;34m\u001b[0m\u001b[0m\n",
            "\u001b[0;31mTypeError\u001b[0m: 'list' object is not callable"
          ]
        }
      ]
    },
    {
      "cell_type": "code",
      "source": [],
      "metadata": {
        "id": "1xaatVLebAjQ"
      },
      "execution_count": null,
      "outputs": []
    }
  ]
}